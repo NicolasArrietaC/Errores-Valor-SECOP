{
 "cells": [
  {
   "cell_type": "markdown",
   "metadata": {},
   "source": [
    "# Análisis de Errores en Valores en SECOP"
   ]
  },
  {
   "cell_type": "markdown",
   "metadata": {},
   "source": [
    "En el siguiente análsis se presenta una descripción de los errores encontrados"
   ]
  },
  {
   "cell_type": "code",
   "execution_count": 1,
   "metadata": {},
   "outputs": [],
   "source": [
    "# Librerias\n",
    "import pandas as pd\n",
    "import numpy as np\n",
    "import matplotlib.pyplot as plt"
   ]
  },
  {
   "cell_type": "code",
   "execution_count": 2,
   "metadata": {},
   "outputs": [],
   "source": [
    "secop_i_ceros = pd.read_csv('Datasets/secop_i_6cerosfinal.csv')\n",
    "secop_i_varias = pd.read_csv('Datasets/secop_i_otras_estrategias.csv')\n",
    "secop_ii = pd.read_csv('Datasets/secop_ii_errores_valor.csv')"
   ]
  },
  {
   "cell_type": "markdown",
   "metadata": {},
   "source": [
    "## SECOP I"
   ]
  },
  {
   "cell_type": "code",
   "execution_count": 3,
   "metadata": {},
   "outputs": [],
   "source": [
    "# union de los datasets\n",
    "secop_i = pd.concat([secop_i_ceros[[\"Error Cuantia proceso\", \"Tipo Error Cuantia Proceso\", \"Error Cuantia Contrato\",\\\n",
    "                                    \"Tipo Error Cuantia Contrato\", \"Error Adicion\",\\\n",
    "                                    \"Tipo Error Adicion\"]],\\\n",
    "                    secop_i_varias[[\"Error Cuantia proceso\", \"Tipo Error Cuantia Proceso\", \"Error Cuantia Contrato\",\\\n",
    "                                    \"Tipo Error Cuantia Contrato\", \"Error Adicion\",\\\n",
    "                                    \"Tipo Error Adicion\"]]])"
   ]
  },
  {
   "cell_type": "markdown",
   "metadata": {},
   "source": [
    "El conjunto de datos se compone de una muestra de 1150 contratos"
   ]
  },
  {
   "cell_type": "code",
   "execution_count": 4,
   "metadata": {},
   "outputs": [
    {
     "name": "stdout",
     "output_type": "stream",
     "text": [
      "<class 'pandas.core.frame.DataFrame'>\n",
      "Int64Index: 1153 entries, 0 to 599\n",
      "Data columns (total 6 columns):\n",
      " #   Column                       Non-Null Count  Dtype  \n",
      "---  ------                       --------------  -----  \n",
      " 0   Error Cuantia proceso        1150 non-null   float64\n",
      " 1   Tipo Error Cuantia Proceso   179 non-null    object \n",
      " 2   Error Cuantia Contrato       1150 non-null   float64\n",
      " 3   Tipo Error Cuantia Contrato  475 non-null    object \n",
      " 4   Error Adicion                1149 non-null   float64\n",
      " 5   Tipo Error Adicion           90 non-null     object \n",
      "dtypes: float64(3), object(3)\n",
      "memory usage: 63.1+ KB\n"
     ]
    }
   ],
   "source": [
    "secop_i.info()"
   ]
  },
  {
   "cell_type": "code",
   "execution_count": 5,
   "metadata": {},
   "outputs": [
    {
     "data": {
      "text/html": [
       "<div>\n",
       "<style scoped>\n",
       "    .dataframe tbody tr th:only-of-type {\n",
       "        vertical-align: middle;\n",
       "    }\n",
       "\n",
       "    .dataframe tbody tr th {\n",
       "        vertical-align: top;\n",
       "    }\n",
       "\n",
       "    .dataframe thead th {\n",
       "        text-align: right;\n",
       "    }\n",
       "</style>\n",
       "<table border=\"1\" class=\"dataframe\">\n",
       "  <thead>\n",
       "    <tr style=\"text-align: right;\">\n",
       "      <th></th>\n",
       "      <th>Error Cuantia proceso</th>\n",
       "      <th>Tipo Error Cuantia Proceso</th>\n",
       "      <th>Error Cuantia Contrato</th>\n",
       "      <th>Tipo Error Cuantia Contrato</th>\n",
       "      <th>Error Adicion</th>\n",
       "      <th>Tipo Error Adicion</th>\n",
       "    </tr>\n",
       "  </thead>\n",
       "  <tbody>\n",
       "    <tr>\n",
       "      <th>0</th>\n",
       "      <td>0.0</td>\n",
       "      <td>NaN</td>\n",
       "      <td>1.0</td>\n",
       "      <td>Agregación de ceros</td>\n",
       "      <td>0.0</td>\n",
       "      <td>NaN</td>\n",
       "    </tr>\n",
       "    <tr>\n",
       "      <th>1</th>\n",
       "      <td>0.0</td>\n",
       "      <td>NaN</td>\n",
       "      <td>1.0</td>\n",
       "      <td>Agregación de ceros</td>\n",
       "      <td>0.0</td>\n",
       "      <td>NaN</td>\n",
       "    </tr>\n",
       "    <tr>\n",
       "      <th>2</th>\n",
       "      <td>0.0</td>\n",
       "      <td>NaN</td>\n",
       "      <td>1.0</td>\n",
       "      <td>Agregación de ceros</td>\n",
       "      <td>0.0</td>\n",
       "      <td>NaN</td>\n",
       "    </tr>\n",
       "    <tr>\n",
       "      <th>3</th>\n",
       "      <td>0.0</td>\n",
       "      <td>NaN</td>\n",
       "      <td>0.0</td>\n",
       "      <td>NaN</td>\n",
       "      <td>0.0</td>\n",
       "      <td>NaN</td>\n",
       "    </tr>\n",
       "    <tr>\n",
       "      <th>4</th>\n",
       "      <td>0.0</td>\n",
       "      <td>NaN</td>\n",
       "      <td>1.0</td>\n",
       "      <td>Agregación de ceros</td>\n",
       "      <td>0.0</td>\n",
       "      <td>NaN</td>\n",
       "    </tr>\n",
       "  </tbody>\n",
       "</table>\n",
       "</div>"
      ],
      "text/plain": [
       "   Error Cuantia proceso Tipo Error Cuantia Proceso  Error Cuantia Contrato  \\\n",
       "0                    0.0                        NaN                     1.0   \n",
       "1                    0.0                        NaN                     1.0   \n",
       "2                    0.0                        NaN                     1.0   \n",
       "3                    0.0                        NaN                     0.0   \n",
       "4                    0.0                        NaN                     1.0   \n",
       "\n",
       "  Tipo Error Cuantia Contrato  Error Adicion Tipo Error Adicion  \n",
       "0         Agregación de ceros            0.0                NaN  \n",
       "1         Agregación de ceros            0.0                NaN  \n",
       "2         Agregación de ceros            0.0                NaN  \n",
       "3                         NaN            0.0                NaN  \n",
       "4         Agregación de ceros            0.0                NaN  "
      ]
     },
     "execution_count": 5,
     "metadata": {},
     "output_type": "execute_result"
    }
   ],
   "source": [
    "secop_i.head()"
   ]
  },
  {
   "cell_type": "markdown",
   "metadata": {},
   "source": [
    ">¿Cuál es el número total de errores? ¿Cuál es la relación de los errores en cada uno de los campos?\n",
    "\n",
    "Creación de la columna que registra los errores"
   ]
  },
  {
   "cell_type": "code",
   "execution_count": 6,
   "metadata": {},
   "outputs": [],
   "source": [
    "condicion = [\n",
    "    (secop_i[\"Error Cuantia proceso\"].eq(1) &\\\n",
    "     secop_i[\"Error Cuantia Contrato\"].eq(0) & secop_i[\"Error Adicion\"].eq(0)),\n",
    "    (secop_i[\"Error Cuantia proceso\"].eq(1) &\\\n",
    "     secop_i[\"Error Cuantia Contrato\"].eq(0) & secop_i[\"Error Adicion\"].eq(1)),\n",
    "    (secop_i[\"Error Cuantia proceso\"].eq(1) &\\\n",
    "     secop_i[\"Error Cuantia Contrato\"].eq(1) & secop_i[\"Error Adicion\"].eq(1)),\n",
    "    (secop_i[\"Error Cuantia proceso\"].eq(0) &\\\n",
    "     secop_i[\"Error Cuantia Contrato\"].eq(0) & secop_i[\"Error Adicion\"].eq(1)),\n",
    "    (secop_i[\"Error Cuantia proceso\"].eq(0) &\\\n",
    "     secop_i[\"Error Cuantia Contrato\"].eq(1) & secop_i[\"Error Adicion\"].eq(1)),\n",
    "    (secop_i[\"Error Cuantia proceso\"].eq(0) &\\\n",
    "     secop_i[\"Error Cuantia Contrato\"].eq(0) & secop_i[\"Error Adicion\"].eq(0)),\n",
    "    (secop_i[\"Error Cuantia proceso\"].eq(0) &\\\n",
    "     secop_i[\"Error Cuantia Contrato\"].eq(1) & secop_i[\"Error Adicion\"].eq(0)),\n",
    "    (secop_i[\"Error Cuantia proceso\"].eq(1) &\\\n",
    "     secop_i[\"Error Cuantia Contrato\"].eq(1) & secop_i[\"Error Adicion\"].eq(0))\n",
    "]\n",
    "\n",
    "valores = [\"proceso\", \"proceso & adición\", \"proceso & inicial & adición\",\\\n",
    "           \"adición\", \"inicial & adición\", \"ninguna\", \"inicial\", \"proceso & inicial\"]\n",
    "\n",
    "secop_i[\"Error\"] = np.select(condicion, valores)"
   ]
  },
  {
   "cell_type": "markdown",
   "metadata": {},
   "source": [
    "Número total de errores"
   ]
  },
  {
   "cell_type": "code",
   "execution_count": 7,
   "metadata": {},
   "outputs": [
    {
     "data": {
      "text/plain": [
       "654"
      ]
     },
     "execution_count": 7,
     "metadata": {},
     "output_type": "execute_result"
    }
   ],
   "source": [
    "len(secop_i[secop_i.Error != \"ninguna\"])"
   ]
  },
  {
   "cell_type": "markdown",
   "metadata": {},
   "source": [
    "Por lo tanto, la efectividad de las consulta son"
   ]
  },
  {
   "cell_type": "code",
   "execution_count": 8,
   "metadata": {},
   "outputs": [
    {
     "data": {
      "text/plain": [
       "56.72159583694709"
      ]
     },
     "execution_count": 8,
     "metadata": {},
     "output_type": "execute_result"
    }
   ],
   "source": [
    "len(secop_i[secop_i.Error != \"ninguna\"])/len(secop_i)*100"
   ]
  },
  {
   "cell_type": "markdown",
   "metadata": {},
   "source": [
    "Relación de errores para cada uno de los campos"
   ]
  },
  {
   "cell_type": "code",
   "execution_count": 9,
   "metadata": {},
   "outputs": [
    {
     "data": {
      "text/plain": [
       "<matplotlib.axes._subplots.AxesSubplot at 0x1e3e107f2e0>"
      ]
     },
     "execution_count": 9,
     "metadata": {},
     "output_type": "execute_result"
    },
    {
     "data": {
      "image/png": "[encoded data removed]",
      "text/plain": [
       "<Figure size 432x288 with 1 Axes>"
      ]
     },
     "metadata": {
      "needs_background": "light"
     },
     "output_type": "display_data"
    }
   ],
   "source": [
    "secop_i[secop_i.Error != \"ninguna\"].groupby('Error')\\\n",
    "    .size()\\\n",
    "    .sort_values()\\\n",
    "    .plot(kind='barh', title='Relación de los errores')"
   ]
  },
  {
   "cell_type": "markdown",
   "metadata": {},
   "source": [
    "> ¿Tipo de error en el valor del proceso?"
   ]
  },
  {
   "cell_type": "code",
   "execution_count": 10,
   "metadata": {},
   "outputs": [
    {
     "data": {
      "text/plain": [
       "<matplotlib.axes._subplots.AxesSubplot at 0x1e3e18e10d0>"
      ]
     },
     "execution_count": 10,
     "metadata": {},
     "output_type": "execute_result"
    },
    {
     "data": {
      "image/png": "[encoded data removed]",
      "text/plain": [
       "<Figure size 432x288 with 1 Axes>"
      ]
     },
     "metadata": {
      "needs_background": "light"
     },
     "output_type": "display_data"
    }
   ],
   "source": [
    "secop_i_ceros[secop_i_ceros['Error Cuantia proceso'] == 1].groupby('Tipo Error Cuantia Proceso')\\\n",
    "    .size()\\\n",
    "    .sort_values()\\\n",
    "    .plot(kind='barh', title='Tipo de error valor de proceso')"
   ]
  },
  {
   "cell_type": "markdown",
   "metadata": {},
   "source": [
    "> ¿Tipo de error en el valor del contrato?"
   ]
  },
  {
   "cell_type": "code",
   "execution_count": 11,
   "metadata": {},
   "outputs": [
    {
     "data": {
      "text/plain": [
       "<matplotlib.axes._subplots.AxesSubplot at 0x1e3e1952b20>"
      ]
     },
     "execution_count": 11,
     "metadata": {},
     "output_type": "execute_result"
    },
    {
     "data": {
      "image/png": "[encoded data removed]",
      "text/plain": [
       "<Figure size 432x288 with 1 Axes>"
      ]
     },
     "metadata": {
      "needs_background": "light"
     },
     "output_type": "display_data"
    }
   ],
   "source": [
    "secop_i[secop_i['Error Cuantia Contrato'] == 1].groupby('Tipo Error Cuantia Contrato')\\\n",
    "    .size()\\\n",
    "    .sort_values()\\\n",
    "    .plot(kind='barh', title='Tipo de error valor de contrato')"
   ]
  },
  {
   "cell_type": "markdown",
   "metadata": {},
   "source": [
    "> ¿Tipo de error en las adiciones?"
   ]
  },
  {
   "cell_type": "code",
   "execution_count": 12,
   "metadata": {},
   "outputs": [
    {
     "data": {
      "text/plain": [
       "<matplotlib.axes._subplots.AxesSubplot at 0x1e3e19b36a0>"
      ]
     },
     "execution_count": 12,
     "metadata": {},
     "output_type": "execute_result"
    },
    {
     "data": {
      "image/png": "[encoded data removed]",
      "text/plain": [
       "<Figure size 432x288 with 1 Axes>"
      ]
     },
     "metadata": {
      "needs_background": "light"
     },
     "output_type": "display_data"
    }
   ],
   "source": [
    "secop_i[secop_i['Error Adicion'] == 1].groupby('Tipo Error Adicion')\\\n",
    "    .size()\\\n",
    "    .sort_values()\\\n",
    "    .plot(kind='barh', title='Tipo de error en adiciones')"
   ]
  },
  {
   "cell_type": "markdown",
   "metadata": {},
   "source": [
    "## SECOP II"
   ]
  },
  {
   "cell_type": "code",
   "execution_count": 13,
   "metadata": {},
   "outputs": [
    {
     "name": "stdout",
     "output_type": "stream",
     "text": [
      "<class 'pandas.core.frame.DataFrame'>\n",
      "RangeIndex: 245 entries, 0 to 244\n",
      "Data columns (total 22 columns):\n",
      " #   Column                             Non-Null Count  Dtype  \n",
      "---  ------                             --------------  -----  \n",
      " 0   Index pandas                       245 non-null    int64  \n",
      " 1   ID Contrato                        245 non-null    object \n",
      " 2   Nombre Entidad                     245 non-null    object \n",
      " 3   Departamento                       245 non-null    object \n",
      " 4   Ciudad                             245 non-null    object \n",
      " 5   Orden                              245 non-null    object \n",
      " 6   Proceso de Compra                  245 non-null    object \n",
      " 7   Tipo de Contrato                   245 non-null    object \n",
      " 8   Modalidad de Contratacion          245 non-null    object \n",
      " 9   Descripcion del Proceso            245 non-null    object \n",
      " 10  Valor del Contrato                 245 non-null    object \n",
      " 11  URLProceso                         245 non-null    object \n",
      " 12  tipo-consulta                      245 non-null    object \n",
      " 13  Asignación                         245 non-null    object \n",
      " 14  Error Valor estimado               244 non-null    float64\n",
      " 15  Tipo de error Valor estimado       24 non-null     object \n",
      " 16  Error Valor del contrato           244 non-null    float64\n",
      " 17  Tipo de error Valor del contrato   59 non-null     object \n",
      " 18  Valor real del valor del contrato  62 non-null     object \n",
      " 19  Error adiciones                    226 non-null    float64\n",
      " 20  Tipo de error adiciones            6 non-null      object \n",
      " 21  Observaciones                      85 non-null     object \n",
      "dtypes: float64(3), int64(1), object(18)\n",
      "memory usage: 42.2+ KB\n"
     ]
    }
   ],
   "source": [
    "secop_ii.info()"
   ]
  },
  {
   "cell_type": "code",
   "execution_count": 14,
   "metadata": {},
   "outputs": [
    {
     "data": {
      "text/html": [
       "<div>\n",
       "<style scoped>\n",
       "    .dataframe tbody tr th:only-of-type {\n",
       "        vertical-align: middle;\n",
       "    }\n",
       "\n",
       "    .dataframe tbody tr th {\n",
       "        vertical-align: top;\n",
       "    }\n",
       "\n",
       "    .dataframe thead th {\n",
       "        text-align: right;\n",
       "    }\n",
       "</style>\n",
       "<table border=\"1\" class=\"dataframe\">\n",
       "  <thead>\n",
       "    <tr style=\"text-align: right;\">\n",
       "      <th></th>\n",
       "      <th>Index pandas</th>\n",
       "      <th>ID Contrato</th>\n",
       "      <th>Nombre Entidad</th>\n",
       "      <th>Departamento</th>\n",
       "      <th>Ciudad</th>\n",
       "      <th>Orden</th>\n",
       "      <th>Proceso de Compra</th>\n",
       "      <th>Tipo de Contrato</th>\n",
       "      <th>Modalidad de Contratacion</th>\n",
       "      <th>Descripcion del Proceso</th>\n",
       "      <th>...</th>\n",
       "      <th>tipo-consulta</th>\n",
       "      <th>Asignación</th>\n",
       "      <th>Error Valor estimado</th>\n",
       "      <th>Tipo de error Valor estimado</th>\n",
       "      <th>Error Valor del contrato</th>\n",
       "      <th>Tipo de error Valor del contrato</th>\n",
       "      <th>Valor real del valor del contrato</th>\n",
       "      <th>Error adiciones</th>\n",
       "      <th>Tipo de error adiciones</th>\n",
       "      <th>Observaciones</th>\n",
       "    </tr>\n",
       "  </thead>\n",
       "  <tbody>\n",
       "    <tr>\n",
       "      <th>0</th>\n",
       "      <td>49726</td>\n",
       "      <td>CO1.PCCNTR.878014</td>\n",
       "      <td>SUBRED INTEGRADA DE SERVICIOS DE SALUD SUR OCC...</td>\n",
       "      <td>Distrito Capital de Bogotá</td>\n",
       "      <td>No Definido</td>\n",
       "      <td>Territorial</td>\n",
       "      <td>CO1.BDOS.777545</td>\n",
       "      <td>Prestación de servicios</td>\n",
       "      <td>Contratación régimen especial</td>\n",
       "      <td>prestar servicos profesionales a la gestión ad...</td>\n",
       "      <td>...</td>\n",
       "      <td>Adiciones alto ratio min max</td>\n",
       "      <td>Nicolas</td>\n",
       "      <td>0.0</td>\n",
       "      <td>NaN</td>\n",
       "      <td>0.0</td>\n",
       "      <td>NaN</td>\n",
       "      <td>NaN</td>\n",
       "      <td>0.0</td>\n",
       "      <td>NaN</td>\n",
       "      <td>NaN</td>\n",
       "    </tr>\n",
       "    <tr>\n",
       "      <th>1</th>\n",
       "      <td>85602</td>\n",
       "      <td>CO1.PCCNTR.876383</td>\n",
       "      <td>SUBRED INTEGRADA DE SERVICIOS DE SALUD SUR OCC...</td>\n",
       "      <td>Distrito Capital de Bogotá</td>\n",
       "      <td>No Definido</td>\n",
       "      <td>Territorial</td>\n",
       "      <td>CO1.BDOS.778122</td>\n",
       "      <td>Prestación de servicios</td>\n",
       "      <td>Contratación régimen especial</td>\n",
       "      <td>prestar servicos profesionales a la gestión ad...</td>\n",
       "      <td>...</td>\n",
       "      <td>Adiciones alto ratio min max</td>\n",
       "      <td>Nicolas</td>\n",
       "      <td>0.0</td>\n",
       "      <td>NaN</td>\n",
       "      <td>0.0</td>\n",
       "      <td>NaN</td>\n",
       "      <td>NaN</td>\n",
       "      <td>0.0</td>\n",
       "      <td>NaN</td>\n",
       "      <td>NaN</td>\n",
       "    </tr>\n",
       "    <tr>\n",
       "      <th>2</th>\n",
       "      <td>2707</td>\n",
       "      <td>CO1.PCCNTR.880613</td>\n",
       "      <td>SUBRED INTEGRADA DE SERVICIOS DE SALUD SUR OCC...</td>\n",
       "      <td>Distrito Capital de Bogotá</td>\n",
       "      <td>No Definido</td>\n",
       "      <td>Territorial</td>\n",
       "      <td>CO1.BDOS.778217</td>\n",
       "      <td>Prestación de servicios</td>\n",
       "      <td>Contratación régimen especial</td>\n",
       "      <td>prestar servicos profesionales a la gestión ad...</td>\n",
       "      <td>...</td>\n",
       "      <td>Adiciones alto ratio min max</td>\n",
       "      <td>Nicolas</td>\n",
       "      <td>0.0</td>\n",
       "      <td>NaN</td>\n",
       "      <td>0.0</td>\n",
       "      <td>NaN</td>\n",
       "      <td>NaN</td>\n",
       "      <td>0.0</td>\n",
       "      <td>NaN</td>\n",
       "      <td>NaN</td>\n",
       "    </tr>\n",
       "    <tr>\n",
       "      <th>3</th>\n",
       "      <td>92479</td>\n",
       "      <td>CO1.PCCNTR.875127</td>\n",
       "      <td>SUBRED INTEGRADA DE SERVICIOS DE SALUD SUR OCC...</td>\n",
       "      <td>Distrito Capital de Bogotá</td>\n",
       "      <td>No Definido</td>\n",
       "      <td>Territorial</td>\n",
       "      <td>CO1.BDOS.777552</td>\n",
       "      <td>Prestación de servicios</td>\n",
       "      <td>Contratación régimen especial</td>\n",
       "      <td>prestar servicos profesionales a la gestión ad...</td>\n",
       "      <td>...</td>\n",
       "      <td>Adiciones alto ratio min max</td>\n",
       "      <td>Nicolas</td>\n",
       "      <td>0.0</td>\n",
       "      <td>NaN</td>\n",
       "      <td>0.0</td>\n",
       "      <td>NaN</td>\n",
       "      <td>NaN</td>\n",
       "      <td>0.0</td>\n",
       "      <td>NaN</td>\n",
       "      <td>NaN</td>\n",
       "    </tr>\n",
       "    <tr>\n",
       "      <th>4</th>\n",
       "      <td>12708</td>\n",
       "      <td>CO1.PCCNTR.877605</td>\n",
       "      <td>SUBRED INTEGRADA DE SERVICIOS DE SALUD SUR OCC...</td>\n",
       "      <td>Distrito Capital de Bogotá</td>\n",
       "      <td>No Definido</td>\n",
       "      <td>Territorial</td>\n",
       "      <td>CO1.BDOS.777552</td>\n",
       "      <td>Prestación de servicios</td>\n",
       "      <td>Contratación régimen especial</td>\n",
       "      <td>prestar servicos profesionales a la gestión ad...</td>\n",
       "      <td>...</td>\n",
       "      <td>Adiciones alto ratio min max</td>\n",
       "      <td>Nicolas</td>\n",
       "      <td>0.0</td>\n",
       "      <td>NaN</td>\n",
       "      <td>0.0</td>\n",
       "      <td>NaN</td>\n",
       "      <td>NaN</td>\n",
       "      <td>0.0</td>\n",
       "      <td>NaN</td>\n",
       "      <td>NaN</td>\n",
       "    </tr>\n",
       "  </tbody>\n",
       "</table>\n",
       "<p>5 rows × 22 columns</p>\n",
       "</div>"
      ],
      "text/plain": [
       "   Index pandas        ID Contrato  \\\n",
       "0         49726  CO1.PCCNTR.878014   \n",
       "1         85602  CO1.PCCNTR.876383   \n",
       "2          2707  CO1.PCCNTR.880613   \n",
       "3         92479  CO1.PCCNTR.875127   \n",
       "4         12708  CO1.PCCNTR.877605   \n",
       "\n",
       "                                      Nombre Entidad  \\\n",
       "0  SUBRED INTEGRADA DE SERVICIOS DE SALUD SUR OCC...   \n",
       "1  SUBRED INTEGRADA DE SERVICIOS DE SALUD SUR OCC...   \n",
       "2  SUBRED INTEGRADA DE SERVICIOS DE SALUD SUR OCC...   \n",
       "3  SUBRED INTEGRADA DE SERVICIOS DE SALUD SUR OCC...   \n",
       "4  SUBRED INTEGRADA DE SERVICIOS DE SALUD SUR OCC...   \n",
       "\n",
       "                 Departamento       Ciudad        Orden Proceso de Compra  \\\n",
       "0  Distrito Capital de Bogotá  No Definido  Territorial   CO1.BDOS.777545   \n",
       "1  Distrito Capital de Bogotá  No Definido  Territorial   CO1.BDOS.778122   \n",
       "2  Distrito Capital de Bogotá  No Definido  Territorial   CO1.BDOS.778217   \n",
       "3  Distrito Capital de Bogotá  No Definido  Territorial   CO1.BDOS.777552   \n",
       "4  Distrito Capital de Bogotá  No Definido  Territorial   CO1.BDOS.777552   \n",
       "\n",
       "          Tipo de Contrato      Modalidad de Contratacion  \\\n",
       "0  Prestación de servicios  Contratación régimen especial   \n",
       "1  Prestación de servicios  Contratación régimen especial   \n",
       "2  Prestación de servicios  Contratación régimen especial   \n",
       "3  Prestación de servicios  Contratación régimen especial   \n",
       "4  Prestación de servicios  Contratación régimen especial   \n",
       "\n",
       "                             Descripcion del Proceso  ...  \\\n",
       "0  prestar servicos profesionales a la gestión ad...  ...   \n",
       "1  prestar servicos profesionales a la gestión ad...  ...   \n",
       "2  prestar servicos profesionales a la gestión ad...  ...   \n",
       "3  prestar servicos profesionales a la gestión ad...  ...   \n",
       "4  prestar servicos profesionales a la gestión ad...  ...   \n",
       "\n",
       "                  tipo-consulta Asignación Error Valor estimado  \\\n",
       "0  Adiciones alto ratio min max    Nicolas                  0.0   \n",
       "1  Adiciones alto ratio min max    Nicolas                  0.0   \n",
       "2  Adiciones alto ratio min max    Nicolas                  0.0   \n",
       "3  Adiciones alto ratio min max    Nicolas                  0.0   \n",
       "4  Adiciones alto ratio min max    Nicolas                  0.0   \n",
       "\n",
       "  Tipo de error Valor estimado  Error Valor del contrato  \\\n",
       "0                          NaN                       0.0   \n",
       "1                          NaN                       0.0   \n",
       "2                          NaN                       0.0   \n",
       "3                          NaN                       0.0   \n",
       "4                          NaN                       0.0   \n",
       "\n",
       "  Tipo de error Valor del contrato  Valor real del valor del contrato  \\\n",
       "0                              NaN                                NaN   \n",
       "1                              NaN                                NaN   \n",
       "2                              NaN                                NaN   \n",
       "3                              NaN                                NaN   \n",
       "4                              NaN                                NaN   \n",
       "\n",
       "  Error adiciones Tipo de error adiciones  Observaciones  \n",
       "0             0.0                     NaN            NaN  \n",
       "1             0.0                     NaN            NaN  \n",
       "2             0.0                     NaN            NaN  \n",
       "3             0.0                     NaN            NaN  \n",
       "4             0.0                     NaN            NaN  \n",
       "\n",
       "[5 rows x 22 columns]"
      ]
     },
     "execution_count": 14,
     "metadata": {},
     "output_type": "execute_result"
    }
   ],
   "source": [
    "secop_ii.head()"
   ]
  },
  {
   "cell_type": "markdown",
   "metadata": {},
   "source": [
    ">¿Cuál es el número total de errores? ¿Cuál es la relación de los errores en cada uno de los campos?\n",
    "\n",
    "Creación de la columna que registra los errores"
   ]
  },
  {
   "cell_type": "code",
   "execution_count": 15,
   "metadata": {},
   "outputs": [],
   "source": [
    "condicion = [\n",
    "    (secop_ii[\"Error Valor estimado\"].eq(1) &\\\n",
    "     secop_ii[\"Error Valor del contrato\"].eq(0) & secop_ii[\"Error adiciones\"].eq(0)),\n",
    "    (secop_ii[\"Error Valor estimado\"].eq(1) &\\\n",
    "     secop_ii[\"Error Valor del contrato\"].eq(0) & secop_ii[\"Error adiciones\"].eq(1)),\n",
    "    (secop_ii[\"Error Valor estimado\"].eq(1) &\\\n",
    "     secop_ii[\"Error Valor del contrato\"].eq(1) & secop_ii[\"Error adiciones\"].eq(1)),\n",
    "    (secop_ii[\"Error Valor estimado\"].eq(0) &\\\n",
    "     secop_ii[\"Error Valor del contrato\"].eq(0) & secop_ii[\"Error adiciones\"].eq(1)),\n",
    "    (secop_ii[\"Error Valor estimado\"].eq(0) &\\\n",
    "     secop_ii[\"Error Valor del contrato\"].eq(1) & secop_ii[\"Error adiciones\"].eq(1)),\n",
    "    (secop_ii[\"Error Valor estimado\"].eq(0) &\\\n",
    "     secop_ii[\"Error Valor del contrato\"].eq(0) & secop_ii[\"Error adiciones\"].eq(0)),\n",
    "    (secop_ii[\"Error Valor estimado\"].eq(0) &\\\n",
    "     secop_ii[\"Error Valor del contrato\"].eq(1) & secop_ii[\"Error adiciones\"].eq(0)),\n",
    "    (secop_ii[\"Error Valor estimado\"].eq(1) &\\\n",
    "     secop_ii[\"Error Valor del contrato\"].eq(1) & secop_ii[\"Error adiciones\"].eq(0))\n",
    "]\n",
    "\n",
    "valores = [\"estimado\", \"estimado & adición\", \"estimado & inicial & adición\",\\\n",
    "           \"adición\", \"inicial & adición\", \"ninguna\", \"inicial\", \"estimado & inicial\"]\n",
    "\n",
    "secop_ii[\"Error\"] = np.select(condicion, valores)"
   ]
  },
  {
   "cell_type": "markdown",
   "metadata": {},
   "source": [
    "Número total de errores"
   ]
  },
  {
   "cell_type": "code",
   "execution_count": 16,
   "metadata": {},
   "outputs": [
    {
     "data": {
      "text/plain": [
       "90"
      ]
     },
     "execution_count": 16,
     "metadata": {},
     "output_type": "execute_result"
    }
   ],
   "source": [
    "len(secop_ii[secop_ii.Error != \"ninguna\"])"
   ]
  },
  {
   "cell_type": "markdown",
   "metadata": {},
   "source": [
    "Por lo tanto, la efectividad de las consulta es"
   ]
  },
  {
   "cell_type": "code",
   "execution_count": 17,
   "metadata": {},
   "outputs": [
    {
     "data": {
      "text/plain": [
       "36.734693877551024"
      ]
     },
     "execution_count": 17,
     "metadata": {},
     "output_type": "execute_result"
    }
   ],
   "source": [
    "len(secop_ii[secop_ii.Error != \"ninguna\"])/len(secop_ii)*100"
   ]
  },
  {
   "cell_type": "markdown",
   "metadata": {},
   "source": [
    "Relación de errores para cada uno de los campos"
   ]
  },
  {
   "cell_type": "code",
   "execution_count": 18,
   "metadata": {},
   "outputs": [
    {
     "data": {
      "text/plain": [
       "<matplotlib.axes._subplots.AxesSubplot at 0x1e3e1a1c6a0>"
      ]
     },
     "execution_count": 18,
     "metadata": {},
     "output_type": "execute_result"
    },
    {
     "data": {
      "image/png": "[encoded data removed]",
      "text/plain": [
       "<Figure size 432x288 with 1 Axes>"
      ]
     },
     "metadata": {
      "needs_background": "light"
     },
     "output_type": "display_data"
    }
   ],
   "source": [
    "secop_ii[secop_ii.Error != \"ninguna\"].groupby('Error')\\\n",
    "    .size()\\\n",
    "    .sort_values()\\\n",
    "    .plot(kind='barh', title='Relación de los errores')"
   ]
  },
  {
   "cell_type": "markdown",
   "metadata": {},
   "source": [
    "> ¿Tipo de error en el valor del proceso?"
   ]
  },
  {
   "cell_type": "code",
   "execution_count": 19,
   "metadata": {},
   "outputs": [
    {
     "data": {
      "text/plain": [
       "<matplotlib.axes._subplots.AxesSubplot at 0x1e3e1a9b730>"
      ]
     },
     "execution_count": 19,
     "metadata": {},
     "output_type": "execute_result"
    },
    {
     "data": {
      "image/png": "[encoded data removed]",
      "text/plain": [
       "<Figure size 432x288 with 1 Axes>"
      ]
     },
     "metadata": {
      "needs_background": "light"
     },
     "output_type": "display_data"
    }
   ],
   "source": [
    "secop_ii[secop_ii['Error Valor estimado'] == 1].groupby('Tipo de error Valor estimado')\\\n",
    "    .size()\\\n",
    "    .sort_values()\\\n",
    "    .plot(kind='barh', title='Tipo de error valor estimado')"
   ]
  },
  {
   "cell_type": "markdown",
   "metadata": {},
   "source": [
    "> ¿Tipo de error en el valor del contrato?"
   ]
  },
  {
   "cell_type": "code",
   "execution_count": 20,
   "metadata": {},
   "outputs": [
    {
     "data": {
      "text/plain": [
       "<matplotlib.axes._subplots.AxesSubplot at 0x1e3e1aebbb0>"
      ]
     },
     "execution_count": 20,
     "metadata": {},
     "output_type": "execute_result"
    },
    {
     "data": {
      "image/png": "[encoded data removed]",
      "text/plain": [
       "<Figure size 432x288 with 1 Axes>"
      ]
     },
     "metadata": {
      "needs_background": "light"
     },
     "output_type": "display_data"
    }
   ],
   "source": [
    "secop_ii[secop_ii['Error Valor del contrato'] == 1].groupby('Tipo de error Valor del contrato')\\\n",
    "    .size()\\\n",
    "    .sort_values()\\\n",
    "    .plot(kind='barh', title='Tipo de error valor de contrato')"
   ]
  },
  {
   "cell_type": "markdown",
   "metadata": {},
   "source": [
    "> ¿Tipo de error en las adiciones?"
   ]
  },
  {
   "cell_type": "code",
   "execution_count": 21,
   "metadata": {},
   "outputs": [
    {
     "data": {
      "text/plain": [
       "<matplotlib.axes._subplots.AxesSubplot at 0x1e3e1af0d60>"
      ]
     },
     "execution_count": 21,
     "metadata": {},
     "output_type": "execute_result"
    },
    {
     "data": {
      "image/png": "[encoded data removed]",
      "text/plain": [
       "<Figure size 432x288 with 1 Axes>"
      ]
     },
     "metadata": {
      "needs_background": "light"
     },
     "output_type": "display_data"
    }
   ],
   "source": [
    "secop_ii[secop_ii['Error adiciones'] == 1].groupby('Tipo de error adiciones')\\\n",
    "    .size()\\\n",
    "    .sort_values()\\\n",
    "    .plot(kind='barh', title='Tipo de error en adiciones')"
   ]
  },
  {
   "cell_type": "code",
   "execution_count": null,
   "metadata": {},
   "outputs": [],
   "source": []
  }
 ],
 "metadata": {
  "kernelspec": {
   "display_name": "Python 3",
   "language": "python",
   "name": "python3"
  },
  "language_info": {
   "codemirror_mode": {
    "name": "ipython",
    "version": 3
   },
   "file_extension": ".py",
   "mimetype": "text/x-python",
   "name": "python",
   "nbconvert_exporter": "python",
   "pygments_lexer": "ipython3",
   "version": "3.8.3"
  }
 },
 "nbformat": 4,
 "nbformat_minor": 4
}
